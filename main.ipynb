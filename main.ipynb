{
 "cells": [
  {
   "cell_type": "code",
   "execution_count": 10,
   "metadata": {},
   "outputs": [],
   "source": [
    "import cv2\n",
    "import numpy as np\n",
    "from keras.datasets import mnist\n",
    "from keras.layers import Dense, Flatten, Conv2D, MaxPooling2D, Dropout\n",
    "from keras.models import Sequential\n",
    "from keras.utils import to_categorical\n",
    "import matplotlib.pyplot as plt"
   ]
  },
  {
   "cell_type": "code",
   "execution_count": 11,
   "metadata": {},
   "outputs": [
    {
     "name": "stdout",
     "output_type": "stream",
     "text": [
      "Epoch 1/3\n",
      "1875/1875 [==============================] - 12s 6ms/step - loss: 0.9239 - accuracy: 0.7643 - val_loss: 0.1435 - val_accuracy: 0.9608\n",
      "Epoch 2/3\n",
      "1875/1875 [==============================] - 13s 7ms/step - loss: 0.3106 - accuracy: 0.9075 - val_loss: 0.0908 - val_accuracy: 0.9734\n",
      "Epoch 3/3\n",
      "1875/1875 [==============================] - 15s 8ms/step - loss: 0.2395 - accuracy: 0.9289 - val_loss: 0.0713 - val_accuracy: 0.9790\n",
      "1/1 [==============================] - 0s 93ms/step\n",
      "Prediction (Softmax) from the neural network:\n",
      "\n",
      " [[9.9994850e-01 4.6220253e-10 1.9955785e-06 4.0811430e-09 3.8568332e-10\n",
      "  1.9359177e-08 2.1382518e-06 3.3735027e-08 4.7196754e-05 9.4854897e-08]]\n",
      "\n",
      "\n",
      "Hard-maxed form of the prediction: \n",
      "\n",
      " [[1. 0. 0. 0. 0. 0. 0. 0. 0. 0.]]\n",
      "\n",
      "\n",
      "Final Output: 0\n"
     ]
    }
   ],
   "source": [
    "# Load the dateset from MNIST\n",
    "(X_train, y_train), (X_test, y_test) = mnist.load_data()\n",
    "\n",
    "# Reshaping the dataset to fit our model\n",
    "X_train = X_train.reshape(60000, 28, 28, 1)\n",
    "X_test = X_test.reshape(10000, 28, 28, 1)\n",
    "\n",
    "# y_train and y_test use one-hot encoding\n",
    "y_train = to_categorical(y_train)\n",
    "y_test = to_categorical(y_test)\n",
    "\n",
    "## Declare the model\n",
    "model = Sequential()\n",
    "\n",
    "## Declare the layers\n",
    "layer_1 = Conv2D(64, kernel_size=3, activation='relu', input_shape=(28, 28, 1))\n",
    "layer_2 = MaxPooling2D(pool_size=2)\n",
    "layer_3 = Conv2D(32, kernel_size=3, activation='relu')\n",
    "layer_4 = MaxPooling2D(pool_size=2)\n",
    "layer_5 = Dropout(0.5)\n",
    "layer_6 = Flatten()\n",
    "layer_7 = Dense(128, activation=\"relu\")\n",
    "layer_8 = Dropout(0.5)\n",
    "layer_9 = Dense(10, activation='softmax')\n",
    "\n",
    "# Add the layers to the model\n",
    "model.add(layer_1)\n",
    "model.add(layer_2)\n",
    "model.add(layer_3)\n",
    "model.add(layer_4)\n",
    "model.add(layer_5)\n",
    "model.add(layer_6)\n",
    "model.add(layer_7)\n",
    "model.add(layer_8)\n",
    "model.add(layer_9)\n",
    "\n",
    "# Compile and run the model\n",
    "model.compile(optimizer='adam', loss='categorical_crossentropy', metrics=['accuracy'])\n",
    "model.fit(X_train, y_train, validation_data=(X_test, y_test), epochs=3)\n",
    "\n",
    "example = X_train[1]\n",
    "prediction = model.predict(example.reshape(1, 28, 28, 1))\n",
    "\n",
    "# Output prediction using the softmax functioin\n",
    "print (\"Prediction (Softmax) from the neural network:\\n\\n {}\".format(prediction))\n",
    "# Output prediction using the hardmax functioin\n",
    "hard_maxed_prediction = np.zeros(prediction.shape)\n",
    "hard_maxed_prediction[0][np.argmax(prediction)] = 1\n",
    "print (\"\\n\\nHard-maxed form of the prediction: \\n\\n {}\".format(hard_maxed_prediction))\n",
    "\n",
    "# Final output (the highest probability)\n",
    "print(\"\\n\\nFinal Output: {}\".format(np.argmax(prediction)))"
   ]
  },
  {
   "cell_type": "code",
   "execution_count": 12,
   "metadata": {},
   "outputs": [
    {
     "name": "stdout",
     "output_type": "stream",
     "text": [
      "1/1 [==============================] - 0s 35ms/step\n",
      "\n",
      "\n",
      "Final Output: 7\n",
      "1/1 [==============================] - 0s 39ms/step\n",
      "\n",
      "\n",
      "Final Output: 3\n",
      "1/1 [==============================] - 0s 28ms/step\n",
      "\n",
      "\n",
      "Final Output: 7\n",
      "1/1 [==============================] - 0s 30ms/step\n",
      "\n",
      "\n",
      "Final Output: 0\n",
      "1/1 [==============================] - 0s 27ms/step\n",
      "\n",
      "\n",
      "Final Output: 0\n",
      "1/1 [==============================] - 0s 41ms/step\n",
      "\n",
      "\n",
      "Final Output: 5\n",
      "1/1 [==============================] - 0s 29ms/step\n",
      "\n",
      "\n",
      "Final Output: 3\n",
      "1/1 [==============================] - 0s 31ms/step\n",
      "\n",
      "\n",
      "Final Output: 2\n",
      "1/1 [==============================] - 0s 30ms/step\n",
      "\n",
      "\n",
      "Final Output: 9\n",
      "1/1 [==============================] - 0s 30ms/step\n",
      "\n",
      "\n",
      "Final Output: 4\n"
     ]
    }
   ],
   "source": [
    "digits = []\n",
    "\n",
    "# Read the image and convert to greyscale\n",
    "image = cv2.imread('./test1.png')\n",
    "grey = cv2.cvtColor(image.copy(), cv2.COLOR_BGR2GRAY)\n",
    "\n",
    "# Thresholding the image\n",
    "ret, thresh = cv2.threshold(grey.copy(), 200, 255, cv2.THRESH_BINARY_INV)\n",
    "\n",
    "# Extract the contours\n",
    "contours, _ = cv2.findContours(thresh.copy(), cv2.RETR_EXTERNAL, cv2.CHAIN_APPROX_SIMPLE)\n",
    "\n",
    "preprocessed_digits = []\n",
    "\n",
    "for c in contours:\n",
    "\n",
    "    x,y,w,h = cv2.boundingRect(c)\n",
    "    # Creating a rectangle around the digit in the original image (for displaying the digits fetched via contours)\n",
    "    cv2.rectangle(image, (x,y), (x+w, y+h), color=(0, 255, 0), thickness=2)\n",
    "    # Cropping out the digit from the image corresponding to the current contours in the for loop\n",
    "    digit = thresh[y:y+h, x:x+w]\n",
    "    # Resizing that digit to (18, 18)\n",
    "    resized_digit = cv2.resize(digit, (18,18))\n",
    "    # Padding the digit with 5 pixels of black color (zeros) in each side to finally produce the image of (28, 28)\n",
    "    padded_digit = np.pad(resized_digit, ((5,5),(5,5)), \"constant\", constant_values=0)\n",
    "    # Adding the preprocessed digit to the list of preprocessed digits\n",
    "    preprocessed_digits.append(padded_digit)\n",
    "\n",
    "    \n",
    "inp = np.array(preprocessed_digits)\n",
    "for digit in preprocessed_digits:\n",
    "    # Use prediction model\n",
    "    prediction = model.predict(digit.reshape(1, 28, 28, 1))  \n",
    "    print(\"\\n\\nFinal Output: {}\".format(np.argmax(prediction)))\n",
    "    digits.append(np.argmax(prediction))"
   ]
  },
  {
   "cell_type": "code",
   "execution_count": 13,
   "metadata": {},
   "outputs": [
    {
     "name": "stdout",
     "output_type": "stream",
     "text": [
      "[7, 3, 7, 0, 0, 5, 3, 2, 9, 4]\n"
     ]
    }
   ],
   "source": [
    "print(digits)"
   ]
  }
 ],
 "metadata": {
  "kernelspec": {
   "display_name": "Python 3",
   "language": "python",
   "name": "python3"
  },
  "language_info": {
   "codemirror_mode": {
    "name": "ipython",
    "version": 3
   },
   "file_extension": ".py",
   "mimetype": "text/x-python",
   "name": "python",
   "nbconvert_exporter": "python",
   "pygments_lexer": "ipython3",
   "version": "3.11.7"
  }
 },
 "nbformat": 4,
 "nbformat_minor": 2
}
